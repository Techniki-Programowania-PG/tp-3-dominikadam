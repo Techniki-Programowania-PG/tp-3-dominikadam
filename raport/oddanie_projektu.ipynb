{
 "cells": [
  {
   "cell_type": "markdown",
   "metadata": {},
   "source": [
    "# TECHNIKI PROGRAMOWANIA - projekt 3\n",
    "### Dominik Dylak 203518\n",
    "### Adam Zapiórkowski 203746\n",
    "\n",
    "Wykorzystane biblioteki:\n",
    "- matplotplusplus (c++)\n",
    "- pybind11",
    "- podstawowe biblioteki c++",
   ]
  },
  {
   "cell_type": "markdown",
   "metadata": {},
   "source": [
    "# Wizualizacja wykresów 1D\n",
    "Przykład obrazujący zaimplementowaną funkcjonalność rysowania wykresów 1 wymiarowych"
   ]
  },
  {
    "cell_type": "code",
    "execution_count": 1,
    "metadata": {},
    "outputs": [],
    "source": [
      "import scikit_build_example as sbe\n",
      "import numpy as np\n",
      "import matplotlib.pyplot as plt\n",
      "t = np.linspace(0, 2 * np.pi, 100)\n"
    ]
  },
  {
    "cell_type": "code",
    "execution_count": 2,
    "metadata": {},
    "outputs": [],
    "source": [
      "signal = sbe.generate_sin(2.0, 1.0, 0.0, 100.0, 100)\n",
      "plt.plot(signal)\n",
      "plt.title(\"Sine wave\")\n",
      "plt.grid(True)\n",
      "plt.show()\n"
    ]
  },
  {
    "cell_type": "markdown",
    "metadata": {},
    "source": [
      "<img src=\"img/sine_plot.png\" width=\"500\"/>"
    ]
  },
  {
    "cell_type": "code",
    "execution_count": 3,
    "metadata": {},
    "outputs": [],
    "source": [
      "cos_signal = sbe.generate_cos(2.0, 1.0, 0.0, 100.0, 100)\n",
      "plt.plot(cos_signal)\n",
      "plt.title(\"Cosinusoid\")\n",
      "plt.grid(True)\n",
      "plt.show()\n"
    ]
  },
  {
    "cell_type": "markdown",
    "metadata": {},
    "source": [
      "<img src=\"img/cos_plot.png\" width=\"500\"/>"
    ]
  },
  {
    "cell_type": "code",
    "execution_count": 5,
    "metadata": {},
    "outputs": [],
    "source": [
      "square_signal = sbe.generate_square(2.0, 1.0, 100.0, 100)\n",
      "plt.plot(square_signal)\n",
      "plt.title(\"Square wave\")\n",
      "plt.grid(True)\n",
      "plt.show()\n"
    ]
  },
  {
    "cell_type": "markdown",
    "metadata": {},
    "source": [
      "<img src=\"img/square_plot.png\" width=\"500\"/>"
    ]
  },
  {
    "cell_type": "code",
    "execution_count": 6,
    "metadata": {},
    "outputs": [],
    "source": [
      "sawtooth_signal = sbe.generate_sawtooth(5.0, 1.0, 100.0, 500)\n",
      "plt.plot(sawtooth_signal)\n",
      "plt.title(\"Sawtooth wave (5Hz, 500 samples)\")\n",
      "plt.grid(True)\n",
      "plt.show()\n"
    ]
  },
  {
    "cell_type": "markdown",
    "metadata": {},
    "source": [
      "<img src=\"img/saw_plot.png\" width=\"500\"/>"
    ]
  },
  {
    "cell_type": "code",
    "execution_count": 7,
    "metadata": {},
    "outputs": [],
    "source": [
      "signal = np.random.rand(100)\n",
      "filtered = sbe.filter_1d(signal, [0.25, 0.5, 0.25])\n",
      "plt.plot(signal, label=\"Original\")\n",
      "plt.plot(filtered, label=\"Filtered\")\n",
      "plt.title(\"1D Filtering\")\n",
      "plt.legend()\n",
      "plt.grid(True)\n",
      "plt.show()\n"
    ]
  },
  {
    "cell_type": "markdown",
    "metadata": {},
    "source": [
      "<img src=\"img/1d_filtr.png\" width=\"500\"/>"
    ]
  },
  {
    "cell_type": "code",
    "execution_count": 8,
    "metadata": {},
    "outputs": [],
    "source": [
      "image = np.random.rand(10, 10)\n",
      "kernel = [[0, -1, 0], [-1, 5, -1], [0, -1, 0]]\n",
      "filtered_image = sbe.filter_2d(image, kernel)\n",
      "plt.subplot(1, 2, 1)\n",
      "plt.imshow(image, cmap='gray')\n",
      "plt.title(\"Original\")\n",
      "plt.subplot(1, 2, 2)\n",
      "plt.imshow(filtered_image, cmap='gray')\n",
      "plt.title(\"Filtered\")\n",
      "plt.show()\n"
    ]
  },
  {
    "cell_type": "markdown",
    "metadata": {},
    "source": [
      "<img src=\"img/2d_filtr.png\" width=\"500\"/>"
    ]
  },
  {
    "cell_type": "code",
    "execution_count": 9,
    "metadata": {},
    "outputs": [],
    "source": [
      "signal = sbe.generate_sin(2.0, 1.0, 0.0, 100.0, 128)\n",
      "spectrum = sbe.dft(signal)\n",
      "plt.plot(np.abs(spectrum))\n",
      "plt.title(\"DFT Magnitude\")\n",
      "plt.grid(True)\n",
      "plt.show()\n"
    ]
  },
  {
    "cell_type": "markdown",
    "metadata": {},
    "source": [
      "<img src=\"img/DFT.png\" width=\"500\"/>"
    ]
  },
  {
    "cell_type": "code",
    "execution_count": 10,
    "metadata": {},
    "outputs": [],
    "source": [
      "reconstructed = sbe.idft(spectrum)\n",
      "plt.plot(reconstructed)\n",
      "plt.title(\"Reconstructed from IDFT\")\n",
      "plt.grid(True)\n",
      "plt.show()\n"
    ]
  },
  {
    "cell_type": "markdown",
    "metadata": {},
    "source": [
      "<img src=\"img/IDFT.png\" width=\"500\"/>"
    ]
  }
 ],
 "metadata": {
  "kernelspec": {
   "display_name": "phd",
   "language": "python",
   "name": "python3"
  },
  "language_info": {
   "codemirror_mode": {
    "name": "ipython",
    "version": 3
   },
   "file_extension": ".py",
   "mimetype": "text/x-python",
   "name": "python",
   "nbconvert_exporter": "python",
   "pygments_lexer": "ipython3",
   "version": "3.11.7"
  }
 },
 "nbformat": 4,
 "nbformat_minor": 2
}
